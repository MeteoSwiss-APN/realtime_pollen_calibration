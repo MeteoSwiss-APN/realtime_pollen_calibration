{
 "cells": [
  {
   "cell_type": "code",
   "execution_count": null,
   "metadata": {},
   "outputs": [],
   "source": [
    "# IGNORE THIS CELL WHICH CUSTOMIZES LAYOUT AND STYLING OF THE NOTEBOOK !\n",
    "%matplotlib inline\n",
    "import warnings\n",
    "import matplotlib as plt\n",
    "plt.style.use([\"dark_background\"])\n",
    "warnings.filterwarnings(\"ignore\", category=FutureWarning)\n",
    "warnings.filterwarnings = lambda *a, **kw: None\n",
    "plt.rcParams['figure.figsize'] = [16, 9]"
   ]
  },
  {
   "cell_type": "code",
   "execution_count": null,
   "metadata": {},
   "outputs": [],
   "source": [
    "import psyplot.project as psy\n",
    "import cfgrib\n",
    "import numpy as np\n",
    "import iconarray\n",
    "from pyprojroot import here"
   ]
  },
  {
   "cell_type": "code",
   "execution_count": null,
   "metadata": {},
   "outputs": [],
   "source": [
    "ds = cfgrib.open_dataset(\n",
    "        str(here()) + \"/data/laf2022022208_filtered\",\n",
    "        encode_cf=(\"time\", \"geography\", \"vertical\")\n",
    "    )\n"
   ]
  },
  {
   "cell_type": "code",
   "execution_count": null,
   "metadata": {},
   "outputs": [],
   "source": [
    "ds"
   ]
  },
  {
   "cell_type": "code",
   "execution_count": null,
   "metadata": {},
   "outputs": [],
   "source": [
    "plot1 = ds.psy.plot.mapplot(\n",
    "    name=\"ALNUtune\",\n",
    "    title=\"Alder Tuning Factor on the 2022-02-22\",\n",
    "    titlesize=15,\n",
    "    lakes=True,\n",
    "    borders=True,\n",
    "    rivers=True,\n",
    "    grid_color=\"white\",\n",
    "    cticksize=8,\n",
    "    clabel=\"Tuning Factor []\",\n",
    "    grid_labelsize=8,\n",
    "    projection='robin',\n",
    "    cmap='RdBu_r')\n",
    "\n",
    "plot1.show()"
   ]
  }
 ],
 "metadata": {
  "kernelspec": {
   "display_name": "realtime_pollen_calibration",
   "language": "python",
   "name": "python3"
  },
  "language_info": {
   "codemirror_mode": {
    "name": "ipython",
    "version": 3
   },
   "file_extension": ".py",
   "mimetype": "text/x-python",
   "name": "python",
   "nbconvert_exporter": "python",
   "pygments_lexer": "ipython3",
   "version": "3.10.6"
  },
  "orig_nbformat": 4,
  "vscode": {
   "interpreter": {
    "hash": "9962fa00b9a375ca15b7d2ab819b01419e7ebb2d041e22c0f2c36b4308fbd358"
   }
  }
 },
 "nbformat": 4,
 "nbformat_minor": 2
}
